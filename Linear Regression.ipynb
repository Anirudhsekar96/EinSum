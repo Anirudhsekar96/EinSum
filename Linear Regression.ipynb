{
 "cells": [
  {
   "cell_type": "code",
   "execution_count": 2,
   "metadata": {},
   "outputs": [],
   "source": [
    "import numpy as np\n",
    "from tqdm.auto import trange, tqdm\n",
    "import matplotlib.pyplot as plt\n",
    "import timeit\n",
    "from functools import partial\n",
    "\n",
    "%matplotlib inline"
   ]
  },
  {
   "cell_type": "code",
   "execution_count": 7,
   "metadata": {},
   "outputs": [
    {
     "data": {
      "text/plain": [
       "-1.5725321489412636e-08"
      ]
     },
     "execution_count": 7,
     "metadata": {},
     "output_type": "execute_result"
    }
   ],
   "source": [
    "X = np.random.random((200,200))\n",
    "y = np.random.random((200,))\n",
    "\n",
    "b = np.linalg.inv(X.T.dot(X)).dot(X.T).dot(y)\n",
    "yhat = X.dot(b)\n",
    "\n",
    "np.sum(y-yhat)"
   ]
  },
  {
   "cell_type": "code",
   "execution_count": 52,
   "metadata": {},
   "outputs": [
    {
     "data": {
      "application/vnd.jupyter.widget-view+json": {
       "model_id": "327f5a57642b489a955979393241a3bc",
       "version_major": 2,
       "version_minor": 0
      },
      "text/plain": [
       "HBox(children=(IntProgress(value=0), HTML(value='')))"
      ]
     },
     "metadata": {},
     "output_type": "display_data"
    },
    {
     "data": {
      "image/png": "[encoded data removed]",
      "text/plain": [
       "<Figure size 720x360 with 1 Axes>"
      ]
     },
     "metadata": {
      "needs_background": "light"
     },
     "output_type": "display_data"
    }
   ],
   "source": [
    "ein_time_list = list()\n",
    "np_time_list = list()\n",
    "\n",
    "path1 = np.einsum_path('ji,jk->ik', X, X, optimize='optimal')[0]\n",
    "path2 = np.einsum_path('ij,kj->ik', X, X, optimize='optimal')[0]\n",
    "path3 = np.einsum_path('ij,j->i', X, y, optimize='optimal')[0]\n",
    "path4 = np.einsum_path('ij,j->i',X,y, optimize='optimal')[0]\n",
    "\n",
    "path_list = [path1,path2,path3,path4]\n",
    "\n",
    "def ein(X,y):\n",
    "    '''\n",
    "        Returns the einsum variant of the problem to be solved\n",
    "        b = inv((X.T) . X) . (X.T) . (y)\n",
    "    '''\n",
    "    \n",
    "    temp = np.einsum('ji,jk->ik', X, X, optimize=path_list[0])\n",
    "    temp = np.linalg.inv(temp)\n",
    "    temp = np.einsum('ij,kj->ik', temp, X, optimize=path_list[1])\n",
    "    b = np.einsum('ij,j->i', temp, y, optimize=path_list[2]) \n",
    "    yhat = np.einsum('ij,j->i',X,b, optimize=path_list[3])\n",
    "    return(np.sum((yhat-y)**2))\n",
    "\n",
    "def np_(X,y):\n",
    "    \"\"\"\n",
    "        b = inv((X.T) . X) . (X.T) . (y) \n",
    "    \"\"\"\n",
    "    temp = np.linalg.inv(X.T.dot(X))\n",
    "    temp = temp.dot(X.T)    \n",
    "    b = temp.dot(y)\n",
    "    yhat = X.dot(b)\n",
    "    return(np.sum((yhat-y)**2))\n",
    "\n",
    "\n",
    "for k in trange(100):\n",
    "    \n",
    "    X = np.random.random((k,int(k)))\n",
    "    y = np.random.random((k,))\n",
    "    \n",
    "    ein_par = partial(ein, X, y)\n",
    "    np_par = partial(np_, X, y)\n",
    "    ein_time_list.append(timeit.timeit(stmt=ein_par, number=1000))\n",
    "    np_time_list.append(timeit.timeit(stmt=np_par, number=1000))\n",
    "\n",
    "plt.figure(figsize=(10,5))\n",
    "plt.plot(ein_time_list)\n",
    "plt.plot(np_time_list)\n",
    "plt.legend(['EIN','NP'])\n",
    "plt.title('Comparison of running times')\n",
    "plt.show()"
   ]
  },
  {
   "cell_type": "code",
   "execution_count": 45,
   "metadata": {},
   "outputs": [
    {
     "name": "stdout",
     "output_type": "stream",
     "text": [
      "4.881528232077601e-19 4.701160285903131e-19\n"
     ]
    }
   ],
   "source": [
    "path1 = np.einsum_path('ji,jk->ik', X, X, optimize='optimal')[0]\n",
    "path2 = np.einsum_path('ij,kj->ik', X, X, optimize='optimal')[0]\n",
    "path3 = np.einsum_path('ij,j->i', X, y, optimize='optimal')[0]\n",
    "path4 = np.einsum_path('ij,j->i',X,y, optimize='optimal')[0]\n",
    "\n",
    "path_list = [path1,path2,path3,path4]\n",
    "\n",
    "def ein(X,y):\n",
    "    '''\n",
    "        Returns the einsum variant of the problem to be solved\n",
    "        b = inv((X.T) . X) . (X.T) . (y)\n",
    "    '''\n",
    "    \n",
    "    temp = np.einsum('ji,jk->ik', X, X, optimize=path_list[0])\n",
    "    temp = np.linalg.inv(temp)\n",
    "    temp = np.einsum('ij,kj->ik', temp, X, optimize=path_list[1])\n",
    "    b = np.einsum('ij,j->i', temp, y, optimize=path_list[2]) \n",
    "    yhat = np.einsum('ij,j->i',X,b, optimize=path_list[3])\n",
    "    return(np.sum((yhat-y)**2))\n",
    "\n",
    "def np_(X,y):\n",
    "    \"\"\"\n",
    "        b = inv((X.T) . X) . (X.T) . (y) \n",
    "    \"\"\"\n",
    "    temp = np.linalg.inv(X.T.dot(X))\n",
    "    temp = temp.dot(X.T)    \n",
    "    b = temp.dot(y)\n",
    "    yhat = X.dot(b)\n",
    "    return(np.sum((yhat-y)**2))\n",
    "\n",
    "k=10\n",
    "X = np.random.random((k,int(k)))\n",
    "y = np.random.random((k,))\n",
    "\n",
    "ein_par = partial(ein, X, y)\n",
    "np_par = partial(np_, X, y)\n",
    "    \n",
    "\n",
    "err_ein = ein_par()\n",
    "err_np = np_par()\n",
    "\n",
    "print(err_ein,err_np)"
   ]
  }
 ],
 "metadata": {
  "kernelspec": {
   "display_name": "Python 3",
   "language": "python",
   "name": "python3"
  },
  "language_info": {
   "codemirror_mode": {
    "name": "ipython",
    "version": 3
   },
   "file_extension": ".py",
   "mimetype": "text/x-python",
   "name": "python",
   "nbconvert_exporter": "python",
   "pygments_lexer": "ipython3",
   "version": "3.7.3"
  }
 },
 "nbformat": 4,
 "nbformat_minor": 2
}
